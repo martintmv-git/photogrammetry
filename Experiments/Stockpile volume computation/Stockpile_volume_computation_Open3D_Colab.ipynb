{
  "nbformat": 4,
  "nbformat_minor": 0,
  "metadata": {
    "colab": {
      "provenance": [],
      "gpuType": "T4",
      "authorship_tag": "ABX9TyPI23/UzzwjBqxYvaoEjHpD",
      "include_colab_link": true
    },
    "kernelspec": {
      "name": "python3",
      "display_name": "Python 3"
    },
    "language_info": {
      "name": "python"
    },
    "accelerator": "GPU",
    "widgets": {
      "application/vnd.jupyter.widget-state+json": {
        "8ae15586e2674faba8bbb1504df5f116": {
          "model_module": "jupyter-threejs",
          "model_name": "RendererModel",
          "model_module_version": "^2.4.1",
          "state": {
            "_alpha": false,
            "_antialias": false,
            "_dom_classes": [],
            "_height": 600,
            "_model_module": "jupyter-threejs",
            "_model_module_version": "^2.4.1",
            "_model_name": "RendererModel",
            "_pause_autorender": false,
            "_view_count": null,
            "_view_module": "jupyter-threejs",
            "_view_module_version": "^2.4.1",
            "_view_name": "RendererView",
            "_webgl_version": 2,
            "_width": 800,
            "autoClear": true,
            "autoClearColor": true,
            "autoClearDepth": true,
            "autoClearStencil": true,
            "background": "black",
            "background_opacity": 1,
            "camera": "IPY_MODEL_f8c9d5d85b8f4d17b9177c74a603c4eb",
            "clearColor": "#000000",
            "clearOpacity": 1,
            "clippingPlanes": [],
            "controls": [
              "IPY_MODEL_3e7f9d60a0fb4729beefafec837b72ae"
            ],
            "gammaFactor": 2,
            "gammaInput": false,
            "gammaOutput": false,
            "layout": "IPY_MODEL_9d4e9ae9bfb649d7947522a0c36a00be",
            "localClippingEnabled": false,
            "maxMorphNormals": 4,
            "maxMorphTargets": 8,
            "physicallyCorrectLights": false,
            "scene": "IPY_MODEL_05153051a6254a50a309bc3ab9c94128",
            "shadowMap": "IPY_MODEL_c536a4adf33a49e89f972b937e10d55b",
            "sortObject": true,
            "tabbable": null,
            "toneMapping": "LinearToneMapping",
            "toneMappingExposure": 1,
            "toneMappingWhitePoint": 1,
            "tooltip": null
          }
        },
        "f8c9d5d85b8f4d17b9177c74a603c4eb": {
          "model_module": "jupyter-threejs",
          "model_name": "PerspectiveCameraModel",
          "model_module_version": "^2.4.1",
          "state": {
            "_model_module": "jupyter-threejs",
            "_model_module_version": "^2.4.1",
            "_model_name": "PerspectiveCameraModel",
            "_view_count": null,
            "_view_module": null,
            "_view_module_version": "",
            "_view_name": null,
            "aspect": 1,
            "castShadow": false,
            "children": [],
            "far": 2000,
            "focus": 10,
            "fov": 75,
            "frustumCulled": true,
            "matrix": [
              1,
              0,
              0,
              0,
              0,
              1,
              0,
              0,
              0,
              0,
              1,
              0,
              3,
              3,
              3,
              1
            ],
            "matrixAutoUpdate": true,
            "matrixWorld": [
              1,
              0,
              0,
              0,
              0,
              1,
              0,
              0,
              0,
              0,
              1,
              0,
              0,
              0,
              0,
              1
            ],
            "matrixWorldInverse": [
              1,
              0,
              0,
              0,
              0,
              1,
              0,
              0,
              0,
              0,
              1,
              0,
              0,
              0,
              0,
              1
            ],
            "matrixWorldNeedsUpdate": false,
            "modelViewMatrix": [
              1,
              0,
              0,
              0,
              0,
              1,
              0,
              0,
              0,
              0,
              1,
              0,
              0,
              0,
              0,
              1
            ],
            "name": "",
            "near": 0.1,
            "normalMatrix": [
              1,
              0,
              0,
              0,
              1,
              0,
              0,
              0,
              1
            ],
            "position": [
              1.3131898693418833,
              0.8824968122000543,
              0.5682680010720805
            ],
            "projectionMatrix": [
              1.3032253728412058,
              0,
              0,
              0,
              0,
              1.3032253728412058,
              0,
              0,
              0,
              0,
              -1.00010000500025,
              -1,
              0,
              0,
              -0.200010000500025,
              0
            ],
            "quaternion": [
              -0.2280256999025981,
              0.5281955527010487,
              0.1497848883881264,
              0.8041008801769343
            ],
            "receiveShadow": false,
            "renderOrder": 0,
            "rotation": [
              0,
              0,
              0,
              "XYZ"
            ],
            "scale": [
              1,
              1,
              1
            ],
            "type": "PerspectiveCamera",
            "up": [
              0,
              1,
              0
            ],
            "visible": true,
            "zoom": 1
          }
        },
        "3e7f9d60a0fb4729beefafec837b72ae": {
          "model_module": "jupyter-threejs",
          "model_name": "OrbitControlsModel",
          "model_module_version": "^2.4.1",
          "state": {
            "_model_module": "jupyter-threejs",
            "_model_module_version": "^2.4.1",
            "_model_name": "OrbitControlsModel",
            "_view_count": null,
            "_view_module": null,
            "_view_module_version": "",
            "_view_name": null,
            "autoRotate": false,
            "autoRotateSpeed": 2,
            "controlling": "IPY_MODEL_f8c9d5d85b8f4d17b9177c74a603c4eb",
            "dampingFactor": 0.25,
            "enableDamping": false,
            "enableKeys": true,
            "enablePan": true,
            "enableRotate": true,
            "enableZoom": true,
            "enabled": true,
            "keyPanSpeed": 7,
            "maxAzimuthAngle": "inf",
            "maxDistance": "inf",
            "maxPolarAngle": 3.141592653589793,
            "maxZoom": "inf",
            "minAzimuthAngle": "-inf",
            "minDistance": 0,
            "minPolarAngle": 0,
            "minZoom": 0,
            "panSpeed": 1,
            "rotateSpeed": 1,
            "screenSpacePanning": true,
            "target": [
              0,
              0,
              0
            ],
            "zoomSpeed": 1
          }
        },
        "9d4e9ae9bfb649d7947522a0c36a00be": {
          "model_module": "@jupyter-widgets/base",
          "model_name": "LayoutModel",
          "model_module_version": "2.0.0",
          "state": {
            "_model_module": "@jupyter-widgets/base",
            "_model_module_version": "2.0.0",
            "_model_name": "LayoutModel",
            "_view_count": null,
            "_view_module": "@jupyter-widgets/base",
            "_view_module_version": "2.0.0",
            "_view_name": "LayoutView",
            "align_content": null,
            "align_items": null,
            "align_self": null,
            "border_bottom": null,
            "border_left": null,
            "border_right": null,
            "border_top": null,
            "bottom": null,
            "display": null,
            "flex": null,
            "flex_flow": null,
            "grid_area": null,
            "grid_auto_columns": null,
            "grid_auto_flow": null,
            "grid_auto_rows": null,
            "grid_column": null,
            "grid_gap": null,
            "grid_row": null,
            "grid_template_areas": null,
            "grid_template_columns": null,
            "grid_template_rows": null,
            "height": null,
            "justify_content": null,
            "justify_items": null,
            "left": null,
            "margin": null,
            "max_height": null,
            "max_width": null,
            "min_height": null,
            "min_width": null,
            "object_fit": null,
            "object_position": null,
            "order": null,
            "overflow": null,
            "padding": null,
            "right": null,
            "top": null,
            "visibility": null,
            "width": null
          }
        },
        "05153051a6254a50a309bc3ab9c94128": {
          "model_module": "jupyter-threejs",
          "model_name": "SceneModel",
          "model_module_version": "^2.4.1",
          "state": {
            "_model_module": "jupyter-threejs",
            "_model_module_version": "^2.4.1",
            "_model_name": "SceneModel",
            "_view_count": null,
            "_view_module": null,
            "_view_module_version": "",
            "_view_name": null,
            "autoUpdate": true,
            "background": "#ffffff",
            "castShadow": false,
            "children": [
              "IPY_MODEL_dfdb63ebf4f64f1e978bd9a55dd82fda",
              "IPY_MODEL_1c4699e8324b48b7acc091f74021978b",
              "IPY_MODEL_9a43ca313a124c2984e6461402c4b3bc",
              "IPY_MODEL_68e86fd7a1be48c5820d1d0994720fef",
              "IPY_MODEL_3317ef9d1efe44f5b9d514760b8e46c5"
            ],
            "fog": null,
            "frustumCulled": true,
            "matrix": [
              1,
              0,
              0,
              0,
              0,
              1,
              0,
              0,
              0,
              0,
              1,
              0,
              0,
              0,
              0,
              1
            ],
            "matrixAutoUpdate": true,
            "matrixWorld": [
              1,
              0,
              0,
              0,
              0,
              1,
              0,
              0,
              0,
              0,
              1,
              0,
              0,
              0,
              0,
              1
            ],
            "matrixWorldNeedsUpdate": false,
            "modelViewMatrix": [
              1,
              0,
              0,
              0,
              0,
              1,
              0,
              0,
              0,
              0,
              1,
              0,
              0,
              0,
              0,
              1
            ],
            "name": "",
            "normalMatrix": [
              1,
              0,
              0,
              0,
              1,
              0,
              0,
              0,
              1
            ],
            "overrideMaterial": null,
            "position": [
              0,
              0,
              0
            ],
            "quaternion": [
              0,
              0,
              0,
              1
            ],
            "receiveShadow": false,
            "renderOrder": 0,
            "rotation": [
              0,
              0,
              0,
              "XYZ"
            ],
            "scale": [
              1,
              1,
              1
            ],
            "type": "Scene",
            "up": [
              0,
              1,
              0
            ],
            "visible": true
          }
        },
        "c536a4adf33a49e89f972b937e10d55b": {
          "model_module": "jupyter-threejs",
          "model_name": "WebGLShadowMapModel",
          "model_module_version": "^2.4.1",
          "state": {
            "_model_module": "jupyter-threejs",
            "_model_module_version": "^2.4.1",
            "_model_name": "WebGLShadowMapModel",
            "_view_count": null,
            "_view_module": null,
            "_view_module_version": "",
            "_view_name": null,
            "enabled": false,
            "type": "PCFShadowMap"
          }
        },
        "dfdb63ebf4f64f1e978bd9a55dd82fda": {
          "model_module": "jupyter-threejs",
          "model_name": "MeshModel",
          "model_module_version": "^2.4.1",
          "state": {
            "_model_module": "jupyter-threejs",
            "_model_module_version": "^2.4.1",
            "_model_name": "MeshModel",
            "_view_count": null,
            "_view_module": null,
            "_view_module_version": "",
            "_view_name": null,
            "castShadow": false,
            "children": [],
            "drawMode": "TrianglesDrawMode",
            "frustumCulled": true,
            "geometry": "IPY_MODEL_be3e7c5809104a4aa565593972ea81a2",
            "material": "IPY_MODEL_eb445817c0984daf82040f307339ea80",
            "matrix": [
              1,
              0,
              0,
              0,
              0,
              1,
              0,
              0,
              0,
              0,
              1,
              0,
              0,
              0,
              0,
              1
            ],
            "matrixAutoUpdate": true,
            "matrixWorld": [
              1,
              0,
              0,
              0,
              0,
              1,
              0,
              0,
              0,
              0,
              1,
              0,
              0,
              0,
              0,
              1
            ],
            "matrixWorldNeedsUpdate": false,
            "modelViewMatrix": [
              1,
              0,
              0,
              0,
              0,
              1,
              0,
              0,
              0,
              0,
              1,
              0,
              0,
              0,
              0,
              1
            ],
            "morphTargetInfluences": [],
            "name": "",
            "normalMatrix": [
              1,
              0,
              0,
              0,
              1,
              0,
              0,
              0,
              1
            ],
            "position": [
              0,
              0,
              0
            ],
            "quaternion": [
              0,
              0,
              0,
              1
            ],
            "receiveShadow": false,
            "renderOrder": 0,
            "rotation": [
              0,
              0,
              0,
              "XYZ"
            ],
            "scale": [
              1,
              1,
              1
            ],
            "type": "Mesh",
            "up": [
              0,
              1,
              0
            ],
            "visible": true
          }
        },
        "1c4699e8324b48b7acc091f74021978b": {
          "model_module": "jupyter-threejs",
          "model_name": "MeshModel",
          "model_module_version": "^2.4.1",
          "state": {
            "_model_module": "jupyter-threejs",
            "_model_module_version": "^2.4.1",
            "_model_name": "MeshModel",
            "_view_count": null,
            "_view_module": null,
            "_view_module_version": "",
            "_view_name": null,
            "castShadow": false,
            "children": [],
            "drawMode": "TrianglesDrawMode",
            "frustumCulled": true,
            "geometry": "IPY_MODEL_d19672776f5f4ca590fed796a288f21d",
            "material": "IPY_MODEL_dfcce513c1a34042bf5d09b4a5682d59",
            "matrix": [
              1,
              0,
              0,
              0,
              0,
              1,
              0,
              0,
              0,
              0,
              1,
              0,
              0,
              0,
              0,
              1
            ],
            "matrixAutoUpdate": true,
            "matrixWorld": [
              1,
              0,
              0,
              0,
              0,
              1,
              0,
              0,
              0,
              0,
              1,
              0,
              0,
              0,
              0,
              1
            ],
            "matrixWorldNeedsUpdate": false,
            "modelViewMatrix": [
              1,
              0,
              0,
              0,
              0,
              1,
              0,
              0,
              0,
              0,
              1,
              0,
              0,
              0,
              0,
              1
            ],
            "morphTargetInfluences": [],
            "name": "",
            "normalMatrix": [
              1,
              0,
              0,
              0,
              1,
              0,
              0,
              0,
              1
            ],
            "position": [
              0,
              0,
              0
            ],
            "quaternion": [
              0,
              0,
              0,
              1
            ],
            "receiveShadow": false,
            "renderOrder": 0,
            "rotation": [
              0,
              0,
              0,
              "XYZ"
            ],
            "scale": [
              1,
              1,
              1
            ],
            "type": "Mesh",
            "up": [
              0,
              1,
              0
            ],
            "visible": true
          }
        },
        "9a43ca313a124c2984e6461402c4b3bc": {
          "model_module": "jupyter-threejs",
          "model_name": "MeshModel",
          "model_module_version": "^2.4.1",
          "state": {
            "_model_module": "jupyter-threejs",
            "_model_module_version": "^2.4.1",
            "_model_name": "MeshModel",
            "_view_count": null,
            "_view_module": null,
            "_view_module_version": "",
            "_view_name": null,
            "castShadow": false,
            "children": [],
            "drawMode": "TrianglesDrawMode",
            "frustumCulled": true,
            "geometry": "IPY_MODEL_754c7d38b99044c8945ee5e1ce3ef393",
            "material": "IPY_MODEL_800ab486d31e42b0a36698b1e23ec738",
            "matrix": [
              1,
              0,
              0,
              0,
              0,
              1,
              0,
              0,
              0,
              0,
              1,
              0,
              0,
              0,
              0,
              1
            ],
            "matrixAutoUpdate": true,
            "matrixWorld": [
              1,
              0,
              0,
              0,
              0,
              1,
              0,
              0,
              0,
              0,
              1,
              0,
              0,
              0,
              0,
              1
            ],
            "matrixWorldNeedsUpdate": false,
            "modelViewMatrix": [
              1,
              0,
              0,
              0,
              0,
              1,
              0,
              0,
              0,
              0,
              1,
              0,
              0,
              0,
              0,
              1
            ],
            "morphTargetInfluences": [],
            "name": "",
            "normalMatrix": [
              1,
              0,
              0,
              0,
              1,
              0,
              0,
              0,
              1
            ],
            "position": [
              0,
              0,
              0
            ],
            "quaternion": [
              0,
              0,
              0,
              1
            ],
            "receiveShadow": false,
            "renderOrder": 0,
            "rotation": [
              0,
              0,
              0,
              "XYZ"
            ],
            "scale": [
              1,
              1,
              1
            ],
            "type": "Mesh",
            "up": [
              0,
              1,
              0
            ],
            "visible": true
          }
        },
        "68e86fd7a1be48c5820d1d0994720fef": {
          "model_module": "jupyter-threejs",
          "model_name": "DirectionalLightModel",
          "model_module_version": "^2.4.1",
          "state": {
            "_model_module": "jupyter-threejs",
            "_model_module_version": "^2.4.1",
            "_model_name": "DirectionalLightModel",
            "_view_count": null,
            "_view_module": null,
            "_view_module_version": "",
            "_view_name": null,
            "castShadow": false,
            "children": [],
            "color": "white",
            "frustumCulled": true,
            "intensity": 0.5,
            "matrix": [
              1,
              0,
              0,
              0,
              0,
              1,
              0,
              0,
              0,
              0,
              1,
              0,
              0,
              0,
              0,
              1
            ],
            "matrixAutoUpdate": true,
            "matrixWorld": [
              1,
              0,
              0,
              0,
              0,
              1,
              0,
              0,
              0,
              0,
              1,
              0,
              0,
              0,
              0,
              1
            ],
            "matrixWorldNeedsUpdate": true,
            "modelViewMatrix": [
              1,
              0,
              0,
              0,
              0,
              1,
              0,
              0,
              0,
              0,
              1,
              0,
              0,
              0,
              0,
              1
            ],
            "name": "",
            "normalMatrix": [
              1,
              0,
              0,
              0,
              1,
              0,
              0,
              0,
              1
            ],
            "position": [
              3,
              5,
              1
            ],
            "quaternion": [
              0,
              0,
              0,
              1
            ],
            "receiveShadow": false,
            "renderOrder": 0,
            "rotation": [
              0,
              0,
              0,
              "XYZ"
            ],
            "scale": [
              1,
              1,
              1
            ],
            "shadow": "IPY_MODEL_82b0dffd-2ae6-4769-8efe-81dd3476cdfb",
            "target": "IPY_MODEL_1789a981-c98d-49f4-b0be-effd4d5923c1",
            "type": "DirectionalLight",
            "up": [
              0,
              1,
              0
            ],
            "visible": true
          }
        },
        "3317ef9d1efe44f5b9d514760b8e46c5": {
          "model_module": "jupyter-threejs",
          "model_name": "AmbientLightModel",
          "model_module_version": "^2.4.1",
          "state": {
            "_model_module": "jupyter-threejs",
            "_model_module_version": "^2.4.1",
            "_model_name": "AmbientLightModel",
            "_view_count": null,
            "_view_module": null,
            "_view_module_version": "",
            "_view_name": null,
            "castShadow": false,
            "children": [],
            "color": "#ffffff",
            "frustumCulled": true,
            "intensity": 0.5,
            "matrix": [
              1,
              0,
              0,
              0,
              0,
              1,
              0,
              0,
              0,
              0,
              1,
              0,
              0,
              0,
              0,
              1
            ],
            "matrixAutoUpdate": true,
            "matrixWorld": [
              1,
              0,
              0,
              0,
              0,
              1,
              0,
              0,
              0,
              0,
              1,
              0,
              0,
              0,
              0,
              1
            ],
            "matrixWorldNeedsUpdate": false,
            "modelViewMatrix": [
              1,
              0,
              0,
              0,
              0,
              1,
              0,
              0,
              0,
              0,
              1,
              0,
              0,
              0,
              0,
              1
            ],
            "name": "",
            "normalMatrix": [
              1,
              0,
              0,
              0,
              1,
              0,
              0,
              0,
              1
            ],
            "position": [
              0,
              0,
              0
            ],
            "quaternion": [
              0,
              0,
              0,
              1
            ],
            "receiveShadow": false,
            "renderOrder": 0,
            "rotation": [
              0,
              0,
              0,
              "XYZ"
            ],
            "scale": [
              1,
              1,
              1
            ],
            "type": "AmbientLight",
            "up": [
              0,
              1,
              0
            ],
            "visible": true
          }
        },
        "be3e7c5809104a4aa565593972ea81a2": {
          "model_module": "jupyter-threejs",
          "model_name": "BufferGeometryModel",
          "model_module_version": "^2.4.1",
          "state": {
            "MaxIndex": 65535,
            "_model_module": "jupyter-threejs",
            "_model_module_version": "^2.4.1",
            "_model_name": "BufferGeometryModel",
            "_ref_geometry": null,
            "_store_ref": false,
            "_view_count": null,
            "_view_module": null,
            "_view_module_version": "",
            "_view_name": null,
            "attributes": {
              "position": "IPY_MODEL_8842e25d0e754bca8f08ddf3b811c4fa",
              "color": "IPY_MODEL_96813aead4804be7bfdeaf8e5784e545"
            },
            "index": null,
            "morphAttributes": {},
            "name": "",
            "type": "BufferGeometry",
            "userData": {}
          }
        },
        "eb445817c0984daf82040f307339ea80": {
          "model_module": "jupyter-threejs",
          "model_name": "MeshStandardMaterialModel",
          "model_module_version": "^2.4.1",
          "state": {
            "_model_module": "jupyter-threejs",
            "_model_module_version": "^2.4.1",
            "_model_name": "MeshStandardMaterialModel",
            "_view_count": null,
            "_view_module": null,
            "_view_module_version": "",
            "_view_name": null,
            "alphaMap": null,
            "alphaTest": 0,
            "aoMap": null,
            "aoMapIntensity": 1,
            "blendDst": "OneMinusSrcAlphaFactor",
            "blendDstAlpha": 0,
            "blendEquation": "AddEquation",
            "blendEquationAlpha": 0,
            "blendSrc": "SrcAlphaFactor",
            "blendSrcAlpha": 0,
            "blending": "NormalBlending",
            "bumpMap": null,
            "bumpScale": 1,
            "clipIntersection": false,
            "clipShadows": false,
            "clippingPlanes": [],
            "color": "#ffffff",
            "colorWrite": true,
            "defines": {
              "STANDARD": ""
            },
            "depthFunc": "LessEqualDepth",
            "depthTest": true,
            "depthWrite": true,
            "displacementBias": 0,
            "displacementMap": null,
            "displacementScale": 1,
            "dithering": false,
            "emissive": "#000000",
            "emissiveIntensity": 1,
            "emissiveMap": null,
            "envMap": null,
            "envMapIntensity": 1,
            "flatShading": false,
            "fog": true,
            "lightMap": null,
            "lightMapIntensity": 1,
            "lights": true,
            "map": null,
            "metalness": 0.5,
            "metalnessMap": null,
            "morphNormals": false,
            "morphTargets": false,
            "name": "",
            "normalMap": null,
            "normalScale": [
              1,
              1
            ],
            "opacity": 1,
            "overdraw": 0,
            "polygonOffset": false,
            "polygonOffsetFactor": 0,
            "polygonOffsetUnits": 0,
            "precision": null,
            "premultipliedAlpha": false,
            "refractionRatio": 0.98,
            "roughness": 0.5,
            "roughnessMap": null,
            "shadowSide": null,
            "side": "DoubleSide",
            "skinning": false,
            "transparent": false,
            "type": "MeshStandardMaterial",
            "vertexColors": "VertexColors",
            "visible": true,
            "wireframe": false,
            "wireframeLinecap": "round",
            "wireframeLinejoin": "round",
            "wireframeLinewidth": 1
          }
        },
        "d19672776f5f4ca590fed796a288f21d": {
          "model_module": "jupyter-threejs",
          "model_name": "BufferGeometryModel",
          "model_module_version": "^2.4.1",
          "state": {
            "MaxIndex": 65535,
            "_model_module": "jupyter-threejs",
            "_model_module_version": "^2.4.1",
            "_model_name": "BufferGeometryModel",
            "_ref_geometry": null,
            "_store_ref": false,
            "_view_count": null,
            "_view_module": null,
            "_view_module_version": "",
            "_view_name": null,
            "attributes": {
              "position": "IPY_MODEL_f0d01fe52b264f71a22704ca4cbbd27f",
              "color": "IPY_MODEL_aa6b3fdea3494f08a47290bd979468d2"
            },
            "index": null,
            "morphAttributes": {},
            "name": "",
            "type": "BufferGeometry",
            "userData": {}
          }
        },
        "dfcce513c1a34042bf5d09b4a5682d59": {
          "model_module": "jupyter-threejs",
          "model_name": "MeshStandardMaterialModel",
          "model_module_version": "^2.4.1",
          "state": {
            "_model_module": "jupyter-threejs",
            "_model_module_version": "^2.4.1",
            "_model_name": "MeshStandardMaterialModel",
            "_view_count": null,
            "_view_module": null,
            "_view_module_version": "",
            "_view_name": null,
            "alphaMap": null,
            "alphaTest": 0,
            "aoMap": null,
            "aoMapIntensity": 1,
            "blendDst": "OneMinusSrcAlphaFactor",
            "blendDstAlpha": 0,
            "blendEquation": "AddEquation",
            "blendEquationAlpha": 0,
            "blendSrc": "SrcAlphaFactor",
            "blendSrcAlpha": 0,
            "blending": "NormalBlending",
            "bumpMap": null,
            "bumpScale": 1,
            "clipIntersection": false,
            "clipShadows": false,
            "clippingPlanes": [],
            "color": "#ffffff",
            "colorWrite": true,
            "defines": {
              "STANDARD": ""
            },
            "depthFunc": "LessEqualDepth",
            "depthTest": true,
            "depthWrite": true,
            "displacementBias": 0,
            "displacementMap": null,
            "displacementScale": 1,
            "dithering": false,
            "emissive": "#000000",
            "emissiveIntensity": 1,
            "emissiveMap": null,
            "envMap": null,
            "envMapIntensity": 1,
            "flatShading": false,
            "fog": true,
            "lightMap": null,
            "lightMapIntensity": 1,
            "lights": true,
            "map": null,
            "metalness": 0.5,
            "metalnessMap": null,
            "morphNormals": false,
            "morphTargets": false,
            "name": "",
            "normalMap": null,
            "normalScale": [
              1,
              1
            ],
            "opacity": 1,
            "overdraw": 0,
            "polygonOffset": false,
            "polygonOffsetFactor": 0,
            "polygonOffsetUnits": 0,
            "precision": null,
            "premultipliedAlpha": false,
            "refractionRatio": 0.98,
            "roughness": 0.5,
            "roughnessMap": null,
            "shadowSide": null,
            "side": "DoubleSide",
            "skinning": false,
            "transparent": false,
            "type": "MeshStandardMaterial",
            "vertexColors": "VertexColors",
            "visible": true,
            "wireframe": false,
            "wireframeLinecap": "round",
            "wireframeLinejoin": "round",
            "wireframeLinewidth": 1
          }
        },
        "754c7d38b99044c8945ee5e1ce3ef393": {
          "model_module": "jupyter-threejs",
          "model_name": "BufferGeometryModel",
          "model_module_version": "^2.4.1",
          "state": {
            "MaxIndex": 65535,
            "_model_module": "jupyter-threejs",
            "_model_module_version": "^2.4.1",
            "_model_name": "BufferGeometryModel",
            "_ref_geometry": null,
            "_store_ref": false,
            "_view_count": null,
            "_view_module": null,
            "_view_module_version": "",
            "_view_name": null,
            "attributes": {
              "position": "IPY_MODEL_56da6e6de5fc4c8eb09f2684413c8191",
              "color": "IPY_MODEL_caeffe5bd72b4c34af4c134ae7679daf"
            },
            "index": null,
            "morphAttributes": {},
            "name": "",
            "type": "BufferGeometry",
            "userData": {}
          }
        },
        "800ab486d31e42b0a36698b1e23ec738": {
          "model_module": "jupyter-threejs",
          "model_name": "MeshStandardMaterialModel",
          "model_module_version": "^2.4.1",
          "state": {
            "_model_module": "jupyter-threejs",
            "_model_module_version": "^2.4.1",
            "_model_name": "MeshStandardMaterialModel",
            "_view_count": null,
            "_view_module": null,
            "_view_module_version": "",
            "_view_name": null,
            "alphaMap": null,
            "alphaTest": 0,
            "aoMap": null,
            "aoMapIntensity": 1,
            "blendDst": "OneMinusSrcAlphaFactor",
            "blendDstAlpha": 0,
            "blendEquation": "AddEquation",
            "blendEquationAlpha": 0,
            "blendSrc": "SrcAlphaFactor",
            "blendSrcAlpha": 0,
            "blending": "NormalBlending",
            "bumpMap": null,
            "bumpScale": 1,
            "clipIntersection": false,
            "clipShadows": false,
            "clippingPlanes": [],
            "color": "#ffffff",
            "colorWrite": true,
            "defines": {
              "STANDARD": ""
            },
            "depthFunc": "LessEqualDepth",
            "depthTest": true,
            "depthWrite": true,
            "displacementBias": 0,
            "displacementMap": null,
            "displacementScale": 1,
            "dithering": false,
            "emissive": "#000000",
            "emissiveIntensity": 1,
            "emissiveMap": null,
            "envMap": null,
            "envMapIntensity": 1,
            "flatShading": false,
            "fog": true,
            "lightMap": null,
            "lightMapIntensity": 1,
            "lights": true,
            "map": null,
            "metalness": 0.5,
            "metalnessMap": null,
            "morphNormals": false,
            "morphTargets": false,
            "name": "",
            "normalMap": null,
            "normalScale": [
              1,
              1
            ],
            "opacity": 1,
            "overdraw": 0,
            "polygonOffset": false,
            "polygonOffsetFactor": 0,
            "polygonOffsetUnits": 0,
            "precision": null,
            "premultipliedAlpha": false,
            "refractionRatio": 0.98,
            "roughness": 0.5,
            "roughnessMap": null,
            "shadowSide": null,
            "side": "DoubleSide",
            "skinning": false,
            "transparent": false,
            "type": "MeshStandardMaterial",
            "vertexColors": "VertexColors",
            "visible": true,
            "wireframe": false,
            "wireframeLinecap": "round",
            "wireframeLinejoin": "round",
            "wireframeLinewidth": 1
          }
        },
        "8842e25d0e754bca8f08ddf3b811c4fa": {
          "model_module": "jupyter-threejs",
          "model_name": "BufferAttributeModel",
          "model_module_version": "^2.4.1",
          "state": {
            "_model_module": "jupyter-threejs",
            "_model_module_version": "^2.4.1",
            "_model_name": "BufferAttributeModel",
            "_view_count": null,
            "_view_module": null,
            "_view_module_version": "",
            "_view_name": null,
            "array": {
              "shape": [
                57045,
                3
              ],
              "dtype": "float32"
            },
            "dynamic": false,
            "needsUpdate": false,
            "normalized": false,
            "version": 1
          }
        },
        "96813aead4804be7bfdeaf8e5784e545": {
          "model_module": "jupyter-threejs",
          "model_name": "BufferAttributeModel",
          "model_module_version": "^2.4.1",
          "state": {
            "_model_module": "jupyter-threejs",
            "_model_module_version": "^2.4.1",
            "_model_name": "BufferAttributeModel",
            "_view_count": null,
            "_view_module": null,
            "_view_module_version": "",
            "_view_name": null,
            "array": {
              "shape": [
                57045,
                3
              ],
              "dtype": "float32"
            },
            "dynamic": false,
            "needsUpdate": false,
            "normalized": true,
            "version": 1
          }
        },
        "f0d01fe52b264f71a22704ca4cbbd27f": {
          "model_module": "jupyter-threejs",
          "model_name": "BufferAttributeModel",
          "model_module_version": "^2.4.1",
          "state": {
            "_model_module": "jupyter-threejs",
            "_model_module_version": "^2.4.1",
            "_model_name": "BufferAttributeModel",
            "_view_count": null,
            "_view_module": null,
            "_view_module_version": "",
            "_view_name": null,
            "array": {
              "shape": [
                15153,
                3
              ],
              "dtype": "float32"
            },
            "dynamic": false,
            "needsUpdate": false,
            "normalized": false,
            "version": 1
          }
        },
        "aa6b3fdea3494f08a47290bd979468d2": {
          "model_module": "jupyter-threejs",
          "model_name": "BufferAttributeModel",
          "model_module_version": "^2.4.1",
          "state": {
            "_model_module": "jupyter-threejs",
            "_model_module_version": "^2.4.1",
            "_model_name": "BufferAttributeModel",
            "_view_count": null,
            "_view_module": null,
            "_view_module_version": "",
            "_view_name": null,
            "array": {
              "shape": [
                15153,
                3
              ],
              "dtype": "float32"
            },
            "dynamic": false,
            "needsUpdate": false,
            "normalized": true,
            "version": 1
          }
        },
        "56da6e6de5fc4c8eb09f2684413c8191": {
          "model_module": "jupyter-threejs",
          "model_name": "BufferAttributeModel",
          "model_module_version": "^2.4.1",
          "state": {
            "_model_module": "jupyter-threejs",
            "_model_module_version": "^2.4.1",
            "_model_name": "BufferAttributeModel",
            "_view_count": null,
            "_view_module": null,
            "_view_module_version": "",
            "_view_name": null,
            "array": {
              "shape": [
                1134,
                3
              ],
              "dtype": "float32"
            },
            "dynamic": false,
            "needsUpdate": false,
            "normalized": false,
            "version": 1
          }
        },
        "caeffe5bd72b4c34af4c134ae7679daf": {
          "model_module": "jupyter-threejs",
          "model_name": "BufferAttributeModel",
          "model_module_version": "^2.4.1",
          "state": {
            "_model_module": "jupyter-threejs",
            "_model_module_version": "^2.4.1",
            "_model_name": "BufferAttributeModel",
            "_view_count": null,
            "_view_module": null,
            "_view_module_version": "",
            "_view_name": null,
            "array": {
              "shape": [
                1134,
                3
              ],
              "dtype": "float32"
            },
            "dynamic": false,
            "needsUpdate": false,
            "normalized": true,
            "version": 1
          }
        }
      }
    }
  },
  "cells": [
    {
      "cell_type": "markdown",
      "metadata": {
        "id": "view-in-github",
        "colab_type": "text"
      },
      "source": [
        "<a href=\"https://colab.research.google.com/github/martintmv-git/photogrammetry/blob/main/Experiments/Stockpile%20volume%20computation/Stockpile_volume_computation_Open3D_Colab.ipynb\" target=\"_parent\"><img src=\"https://colab.research.google.com/assets/colab-badge.svg\" alt=\"Open In Colab\"/></a>"
      ]
    },
    {
      "cell_type": "markdown",
      "source": [
        "# Stockpile volume computation with Open3D - Google Colab Env Experiment\n",
        "![image.png](data:image/png;base64,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)"
      ],
      "metadata": {
        "id": "VFyKh4McwNf4"
      }
    },
    {
      "cell_type": "markdown",
      "source": [
        "## Cell 1: Install Necessary Packages\n",
        "This cell will handle the installation of necessary Python packages in Colab environment."
      ],
      "metadata": {
        "id": "WTOeSeTPq9Qs"
      }
    },
    {
      "cell_type": "code",
      "source": [
        "# Install necessary libraries\n",
        "!pip install open3d pythreejs"
      ],
      "metadata": {
        "id": "rlU-Qg8-rG7G"
      },
      "execution_count": null,
      "outputs": []
    },
    {
      "cell_type": "code",
      "source": [
        "# Check installed versions of pythreejs and ipywidgets\n",
        "!pip show pythreejs ipywidgets"
      ],
      "metadata": {
        "colab": {
          "base_uri": "https://localhost:8080/"
        },
        "id": "MNNIQg17uJXn",
        "outputId": "791d2cd9-510b-4a2b-800a-679e8994426b"
      },
      "execution_count": 2,
      "outputs": [
        {
          "output_type": "stream",
          "name": "stdout",
          "text": [
            "Name: pythreejs\n",
            "Version: 2.4.2\n",
            "Summary: Interactive 3D graphics for the Jupyter Notebook and JupyterLab, using Three.js and Jupyter Widgets.\n",
            "Home-page: https://github.com/jupyter-widgets/pythreejs\n",
            "Author: PyThreejs Development Team\n",
            "Author-email: jason@jasongrout.org\n",
            "License: BSD-3-Clause\n",
            "Location: /usr/local/lib/python3.10/dist-packages\n",
            "Requires: ipydatawidgets, ipywidgets, numpy, traitlets\n",
            "Required-by: \n",
            "---\n",
            "Name: ipywidgets\n",
            "Version: 8.1.2\n",
            "Summary: Jupyter interactive widgets\n",
            "Home-page: http://jupyter.org\n",
            "Author: Jupyter Development Team\n",
            "Author-email: jupyter@googlegroups.com\n",
            "License: BSD 3-Clause License\n",
            "Location: /usr/local/lib/python3.10/dist-packages\n",
            "Requires: comm, ipython, jupyterlab-widgets, traitlets, widgetsnbextension\n",
            "Required-by: bigframes, bqplot, cufflinks, ipydatawidgets, ipyevents, ipyfilechooser, ipyleaflet, ipytree, open3d, pythreejs\n"
          ]
        }
      ]
    },
    {
      "cell_type": "code",
      "execution_count": 3,
      "metadata": {
        "id": "BEP6jJccqwwS"
      },
      "outputs": [],
      "source": [
        "# Import general libraries\n",
        "from google.colab import drive\n",
        "import numpy as np\n",
        "import open3d as o3d\n",
        "import math\n",
        "from scipy.spatial import Delaunay\n",
        "import matplotlib.pyplot as plt\n",
        "from functools import reduce\n",
        "\n",
        "# Specific imports for interactive 3D visualization\n",
        "from pythreejs import Mesh, MeshStandardMaterial, BufferGeometry, BufferAttribute, PerspectiveCamera, Scene, AmbientLight, DirectionalLight, Renderer, OrbitControls"
      ]
    },
    {
      "cell_type": "markdown",
      "source": [
        "## Cell 2: Mount Google Drive\n",
        "This cell is for mounting Google Drive to access the dataset."
      ],
      "metadata": {
        "id": "iRaAjsnsrBYH"
      }
    },
    {
      "cell_type": "code",
      "source": [
        "# Mount Google Drive to access the dataset\n",
        "drive.mount('/content/drive')"
      ],
      "metadata": {
        "colab": {
          "base_uri": "https://localhost:8080/"
        },
        "id": "fMijBglhq7j6",
        "outputId": "4aba8809-3d16-4640-c744-cda27294168d"
      },
      "execution_count": 4,
      "outputs": [
        {
          "output_type": "stream",
          "name": "stdout",
          "text": [
            "Mounted at /content/drive\n"
          ]
        }
      ]
    },
    {
      "cell_type": "markdown",
      "source": [
        "## Cell 3: Define Functions for 3D Visualization\n",
        "Define the functions necessary to convert Open3D geometries to `pythreejs` objects for visualization."
      ],
      "metadata": {
        "id": "xNIerGg7rL5C"
      }
    },
    {
      "cell_type": "code",
      "source": [
        "def setup_scene(*meshes):\n",
        "    # Create lights\n",
        "    directional_light = DirectionalLight(color='white', position=[3, 5, 1], intensity=0.5)\n",
        "    ambient_light = AmbientLight(intensity=0.5)\n",
        "\n",
        "    # Create scene\n",
        "    scene = Scene(children=list(meshes) + [directional_light, ambient_light])\n",
        "\n",
        "    # Set up camera\n",
        "    camera = PerspectiveCamera(position=[3, 3, 3], fov=75)\n",
        "\n",
        "    # Render the scene\n",
        "    renderer = Renderer(camera=camera, scene=scene, controls=[OrbitControls(controlling=camera)], background='black', width=800, height=600)\n",
        "    return renderer"
      ],
      "metadata": {
        "id": "Cum5JwjOtSdp"
      },
      "execution_count": 11,
      "outputs": []
    },
    {
      "cell_type": "code",
      "source": [
        "def o3d_geometry_to_pythreejs_mesh(geometry, color):\n",
        "    if isinstance(geometry, o3d.geometry.PointCloud):\n",
        "        # Handle PointCloud objects\n",
        "        vertices = np.asarray(geometry.points)\n",
        "        if np.asarray(geometry.colors).size == 0:\n",
        "            # Apply uniform color if no colors are specified\n",
        "            colors = np.tile(color, (len(vertices), 1))\n",
        "        else:\n",
        "            colors = np.asarray(geometry.colors)\n",
        "    elif isinstance(geometry, o3d.geometry.TriangleMesh):\n",
        "        # Handle TriangleMesh objects\n",
        "        vertices = np.asarray(geometry.vertices)\n",
        "        if np.asarray(geometry.vertex_colors).size == 0:\n",
        "            colors = np.tile(color, (len(vertices), 1))\n",
        "        else:\n",
        "            colors = np.asarray(geometry.vertex_colors)\n",
        "\n",
        "    # Create buffer geometry\n",
        "    buffer_geometry = BufferGeometry(attributes={\n",
        "        'position': BufferAttribute(vertices.astype(np.float32), normalized=False),\n",
        "        'color': BufferAttribute(colors.astype(np.float32), normalized=True)\n",
        "    })\n",
        "\n",
        "    # Create material\n",
        "    material = MeshStandardMaterial(vertexColors='VertexColors', side='DoubleSide')\n",
        "\n",
        "    # Create mesh\n",
        "    mesh = Mesh(geometry=buffer_geometry, material=material)\n",
        "    return mesh"
      ],
      "metadata": {
        "id": "B4jBKtarrKcv"
      },
      "execution_count": 6,
      "outputs": []
    },
    {
      "cell_type": "markdown",
      "source": [
        "## Cell 4: Read and Process the Point Cloud Data\n",
        "Process the point cloud data, applies transformations, and prepares the objects for visualization."
      ],
      "metadata": {
        "id": "8l1Ih1ihrWsL"
      }
    },
    {
      "cell_type": "code",
      "source": [
        "# Pop-up Colab support\n",
        "from google.colab import output\n",
        "output.enable_custom_widget_manager()"
      ],
      "metadata": {
        "id": "e6jNZ9nhsglC"
      },
      "execution_count": 7,
      "outputs": []
    },
    {
      "cell_type": "code",
      "source": [
        "# Load point cloud\n",
        "pcd = o3d.io.read_point_cloud(\"/content/drive/MyDrive/photogrammetry/stockpile.ply\")\n",
        "axes = o3d.geometry.TriangleMesh.create_coordinate_frame()\n",
        "\n",
        "# Segment the plane\n",
        "plane_model, inliers = pcd.segment_plane(distance_threshold=0.01, ransac_n=3, num_iterations=10000)\n",
        "plane_pcd = pcd.select_by_index(inliers)\n",
        "plane_pcd.paint_uniform_color([1.0, 0, 0])\n",
        "stockpile_pcd = pcd.select_by_index(inliers, invert=True)\n",
        "stockpile_pcd.paint_uniform_color([0, 0, 1.0])\n",
        "\n",
        "# Prepare meshes for visualization\n",
        "plane_mesh = o3d_geometry_to_pythreejs_mesh(plane_pcd, [1.0, 0, 0])\n",
        "stockpile_mesh = o3d_geometry_to_pythreejs_mesh(stockpile_pcd, [0, 0, 1.0])\n",
        "axes_mesh = o3d_geometry_to_pythreejs_mesh(axes, [0.5, 0.5, 0.5])\n",
        "\n",
        "# Setup and display the scene\n",
        "scene = setup_scene(plane_mesh, stockpile_mesh, axes_mesh)\n",
        "display(scene)"
      ],
      "metadata": {
        "colab": {
          "base_uri": "https://localhost:8080/",
          "height": 960,
          "referenced_widgets": [
            "8ae15586e2674faba8bbb1504df5f116",
            "f8c9d5d85b8f4d17b9177c74a603c4eb",
            "3e7f9d60a0fb4729beefafec837b72ae",
            "9d4e9ae9bfb649d7947522a0c36a00be",
            "05153051a6254a50a309bc3ab9c94128",
            "c536a4adf33a49e89f972b937e10d55b",
            "dfdb63ebf4f64f1e978bd9a55dd82fda",
            "1c4699e8324b48b7acc091f74021978b",
            "9a43ca313a124c2984e6461402c4b3bc",
            "68e86fd7a1be48c5820d1d0994720fef",
            "3317ef9d1efe44f5b9d514760b8e46c5",
            "be3e7c5809104a4aa565593972ea81a2",
            "eb445817c0984daf82040f307339ea80",
            "d19672776f5f4ca590fed796a288f21d",
            "dfcce513c1a34042bf5d09b4a5682d59",
            "754c7d38b99044c8945ee5e1ce3ef393",
            "800ab486d31e42b0a36698b1e23ec738",
            "8842e25d0e754bca8f08ddf3b811c4fa",
            "96813aead4804be7bfdeaf8e5784e545",
            "f0d01fe52b264f71a22704ca4cbbd27f",
            "aa6b3fdea3494f08a47290bd979468d2",
            "56da6e6de5fc4c8eb09f2684413c8191",
            "caeffe5bd72b4c34af4c134ae7679daf"
          ]
        },
        "id": "dO-w9O-srS4s",
        "outputId": "481cfd9e-e801-44aa-d533-da35cafd6bf6"
      },
      "execution_count": 13,
      "outputs": [
        {
          "output_type": "display_data",
          "data": {
            "text/plain": [
              "Renderer(camera=PerspectiveCamera(fov=75.0, position=(3.0, 3.0, 3.0), projectionMatrix=(1.0, 0.0, 0.0, 0.0, 0.…"
            ],
            "application/vnd.jupyter.widget-view+json": {
              "version_major": 2,
              "version_minor": 0,
              "model_id": "8ae15586e2674faba8bbb1504df5f116"
            }
          },
          "metadata": {
            "application/vnd.jupyter.widget-view+json": {
              "colab": {
                "custom_widget_manager": {
                  "url": "https://ssl.gstatic.com/colaboratory-static/widgets/colab-cdn-widget-manager/2b70e893a8ba7c0f/manager.min.js"
                }
              }
            }
          }
        },
        {
          "output_type": "error",
          "ename": "TraitError",
          "evalue": "The 'target' trait of a DirectionalLight instance expected an Uninitialized or an Object3D, not the str 'IPY_MODEL_1789a981-c98d-49f4-b0be-effd4d5923c1'.",
          "traceback": [
            "\u001b[0;31m---------------------------------------------------------------------------\u001b[0m",
            "\u001b[0;31mTraitError\u001b[0m                                Traceback (most recent call last)",
            "\u001b[0;32m/usr/local/lib/python3.10/dist-packages/ipywidgets/widgets/widget.py\u001b[0m in \u001b[0;36m_handle_msg\u001b[0;34m(self, msg)\u001b[0m\n\u001b[1;32m    771\u001b[0m                 \u001b[0;32mif\u001b[0m \u001b[0;34m'buffer_paths'\u001b[0m \u001b[0;32min\u001b[0m \u001b[0mdata\u001b[0m\u001b[0;34m:\u001b[0m\u001b[0;34m\u001b[0m\u001b[0;34m\u001b[0m\u001b[0m\n\u001b[1;32m    772\u001b[0m                     \u001b[0m_put_buffers\u001b[0m\u001b[0;34m(\u001b[0m\u001b[0mstate\u001b[0m\u001b[0;34m,\u001b[0m \u001b[0mdata\u001b[0m\u001b[0;34m[\u001b[0m\u001b[0;34m'buffer_paths'\u001b[0m\u001b[0;34m]\u001b[0m\u001b[0;34m,\u001b[0m \u001b[0mmsg\u001b[0m\u001b[0;34m[\u001b[0m\u001b[0;34m'buffers'\u001b[0m\u001b[0;34m]\u001b[0m\u001b[0;34m)\u001b[0m\u001b[0;34m\u001b[0m\u001b[0;34m\u001b[0m\u001b[0m\n\u001b[0;32m--> 773\u001b[0;31m                 \u001b[0mself\u001b[0m\u001b[0;34m.\u001b[0m\u001b[0mset_state\u001b[0m\u001b[0;34m(\u001b[0m\u001b[0mstate\u001b[0m\u001b[0;34m)\u001b[0m\u001b[0;34m\u001b[0m\u001b[0;34m\u001b[0m\u001b[0m\n\u001b[0m\u001b[1;32m    774\u001b[0m \u001b[0;34m\u001b[0m\u001b[0m\n\u001b[1;32m    775\u001b[0m         \u001b[0;31m# Handle a state request.\u001b[0m\u001b[0;34m\u001b[0m\u001b[0;34m\u001b[0m\u001b[0m\n",
            "\u001b[0;32m/usr/local/lib/python3.10/dist-packages/ipywidgets/widgets/widget.py\u001b[0m in \u001b[0;36mset_state\u001b[0;34m(self, sync_data)\u001b[0m\n\u001b[1;32m    653\u001b[0m                     from_json = self.trait_metadata(name, 'from_json',\n\u001b[1;32m    654\u001b[0m                                                     self._trait_from_json)\n\u001b[0;32m--> 655\u001b[0;31m                     \u001b[0mself\u001b[0m\u001b[0;34m.\u001b[0m\u001b[0mset_trait\u001b[0m\u001b[0;34m(\u001b[0m\u001b[0mname\u001b[0m\u001b[0;34m,\u001b[0m \u001b[0mfrom_json\u001b[0m\u001b[0;34m(\u001b[0m\u001b[0msync_data\u001b[0m\u001b[0;34m[\u001b[0m\u001b[0mname\u001b[0m\u001b[0;34m]\u001b[0m\u001b[0;34m,\u001b[0m \u001b[0mself\u001b[0m\u001b[0;34m)\u001b[0m\u001b[0;34m)\u001b[0m\u001b[0;34m\u001b[0m\u001b[0;34m\u001b[0m\u001b[0m\n\u001b[0m\u001b[1;32m    656\u001b[0m \u001b[0;34m\u001b[0m\u001b[0m\n\u001b[1;32m    657\u001b[0m     \u001b[0;32mdef\u001b[0m \u001b[0msend\u001b[0m\u001b[0;34m(\u001b[0m\u001b[0mself\u001b[0m\u001b[0;34m,\u001b[0m \u001b[0mcontent\u001b[0m\u001b[0;34m,\u001b[0m \u001b[0mbuffers\u001b[0m\u001b[0;34m=\u001b[0m\u001b[0;32mNone\u001b[0m\u001b[0;34m)\u001b[0m\u001b[0;34m:\u001b[0m\u001b[0;34m\u001b[0m\u001b[0;34m\u001b[0m\u001b[0m\n",
            "\u001b[0;32m/usr/local/lib/python3.10/dist-packages/traitlets/traitlets.py\u001b[0m in \u001b[0;36mset_trait\u001b[0;34m(self, name, value)\u001b[0m\n\u001b[1;32m   1736\u001b[0m             \u001b[0;32mraise\u001b[0m \u001b[0mTraitError\u001b[0m\u001b[0;34m(\u001b[0m\u001b[0;34mf\"Class {cls.__name__} does not have a trait named {name}\"\u001b[0m\u001b[0;34m)\u001b[0m\u001b[0;34m\u001b[0m\u001b[0;34m\u001b[0m\u001b[0m\n\u001b[1;32m   1737\u001b[0m         \u001b[0;32melse\u001b[0m\u001b[0;34m:\u001b[0m\u001b[0;34m\u001b[0m\u001b[0;34m\u001b[0m\u001b[0m\n\u001b[0;32m-> 1738\u001b[0;31m             \u001b[0mgetattr\u001b[0m\u001b[0;34m(\u001b[0m\u001b[0mcls\u001b[0m\u001b[0;34m,\u001b[0m \u001b[0mname\u001b[0m\u001b[0;34m)\u001b[0m\u001b[0;34m.\u001b[0m\u001b[0mset\u001b[0m\u001b[0;34m(\u001b[0m\u001b[0mself\u001b[0m\u001b[0;34m,\u001b[0m \u001b[0mvalue\u001b[0m\u001b[0;34m)\u001b[0m\u001b[0;34m\u001b[0m\u001b[0;34m\u001b[0m\u001b[0m\n\u001b[0m\u001b[1;32m   1739\u001b[0m \u001b[0;34m\u001b[0m\u001b[0m\n\u001b[1;32m   1740\u001b[0m     \u001b[0;34m@\u001b[0m\u001b[0mclassmethod\u001b[0m\u001b[0;34m\u001b[0m\u001b[0;34m\u001b[0m\u001b[0m\n",
            "\u001b[0;32m/usr/local/lib/python3.10/dist-packages/traitlets/traitlets.py\u001b[0m in \u001b[0;36mset\u001b[0;34m(self, obj, value)\u001b[0m\n\u001b[1;32m    701\u001b[0m \u001b[0;34m\u001b[0m\u001b[0m\n\u001b[1;32m    702\u001b[0m     \u001b[0;32mdef\u001b[0m \u001b[0mset\u001b[0m\u001b[0;34m(\u001b[0m\u001b[0mself\u001b[0m\u001b[0;34m,\u001b[0m \u001b[0mobj\u001b[0m\u001b[0;34m,\u001b[0m \u001b[0mvalue\u001b[0m\u001b[0;34m)\u001b[0m\u001b[0;34m:\u001b[0m\u001b[0;34m\u001b[0m\u001b[0;34m\u001b[0m\u001b[0m\n\u001b[0;32m--> 703\u001b[0;31m         \u001b[0mnew_value\u001b[0m \u001b[0;34m=\u001b[0m \u001b[0mself\u001b[0m\u001b[0;34m.\u001b[0m\u001b[0m_validate\u001b[0m\u001b[0;34m(\u001b[0m\u001b[0mobj\u001b[0m\u001b[0;34m,\u001b[0m \u001b[0mvalue\u001b[0m\u001b[0;34m)\u001b[0m\u001b[0;34m\u001b[0m\u001b[0;34m\u001b[0m\u001b[0m\n\u001b[0m\u001b[1;32m    704\u001b[0m         \u001b[0;32mtry\u001b[0m\u001b[0;34m:\u001b[0m\u001b[0;34m\u001b[0m\u001b[0;34m\u001b[0m\u001b[0m\n\u001b[1;32m    705\u001b[0m             \u001b[0mold_value\u001b[0m \u001b[0;34m=\u001b[0m \u001b[0mobj\u001b[0m\u001b[0;34m.\u001b[0m\u001b[0m_trait_values\u001b[0m\u001b[0;34m[\u001b[0m\u001b[0mself\u001b[0m\u001b[0;34m.\u001b[0m\u001b[0mname\u001b[0m\u001b[0;34m]\u001b[0m\u001b[0;34m\u001b[0m\u001b[0;34m\u001b[0m\u001b[0m\n",
            "\u001b[0;32m/usr/local/lib/python3.10/dist-packages/traitlets/traitlets.py\u001b[0m in \u001b[0;36m_validate\u001b[0;34m(self, obj, value)\u001b[0m\n\u001b[1;32m    733\u001b[0m             \u001b[0;32mreturn\u001b[0m \u001b[0mvalue\u001b[0m\u001b[0;34m\u001b[0m\u001b[0;34m\u001b[0m\u001b[0m\n\u001b[1;32m    734\u001b[0m         \u001b[0;32mif\u001b[0m \u001b[0mhasattr\u001b[0m\u001b[0;34m(\u001b[0m\u001b[0mself\u001b[0m\u001b[0;34m,\u001b[0m \u001b[0;34m\"validate\"\u001b[0m\u001b[0;34m)\u001b[0m\u001b[0;34m:\u001b[0m\u001b[0;34m\u001b[0m\u001b[0;34m\u001b[0m\u001b[0m\n\u001b[0;32m--> 735\u001b[0;31m             \u001b[0mvalue\u001b[0m \u001b[0;34m=\u001b[0m \u001b[0mself\u001b[0m\u001b[0;34m.\u001b[0m\u001b[0mvalidate\u001b[0m\u001b[0;34m(\u001b[0m\u001b[0mobj\u001b[0m\u001b[0;34m,\u001b[0m \u001b[0mvalue\u001b[0m\u001b[0;34m)\u001b[0m\u001b[0;34m\u001b[0m\u001b[0;34m\u001b[0m\u001b[0m\n\u001b[0m\u001b[1;32m    736\u001b[0m         \u001b[0;32mif\u001b[0m \u001b[0mobj\u001b[0m\u001b[0;34m.\u001b[0m\u001b[0m_cross_validation_lock\u001b[0m \u001b[0;32mis\u001b[0m \u001b[0;32mFalse\u001b[0m\u001b[0;34m:\u001b[0m\u001b[0;34m\u001b[0m\u001b[0;34m\u001b[0m\u001b[0m\n\u001b[1;32m    737\u001b[0m             \u001b[0mvalue\u001b[0m \u001b[0;34m=\u001b[0m \u001b[0mself\u001b[0m\u001b[0;34m.\u001b[0m\u001b[0m_cross_validate\u001b[0m\u001b[0;34m(\u001b[0m\u001b[0mobj\u001b[0m\u001b[0;34m,\u001b[0m \u001b[0mvalue\u001b[0m\u001b[0;34m)\u001b[0m\u001b[0;34m\u001b[0m\u001b[0;34m\u001b[0m\u001b[0m\n",
            "\u001b[0;32m/usr/local/lib/python3.10/dist-packages/traitlets/traitlets.py\u001b[0m in \u001b[0;36mvalidate\u001b[0;34m(self, obj, value)\u001b[0m\n\u001b[1;32m   2300\u001b[0m                 \u001b[0;32mexcept\u001b[0m \u001b[0mTraitError\u001b[0m\u001b[0;34m:\u001b[0m\u001b[0;34m\u001b[0m\u001b[0;34m\u001b[0m\u001b[0m\n\u001b[1;32m   2301\u001b[0m                     \u001b[0;32mcontinue\u001b[0m\u001b[0;34m\u001b[0m\u001b[0;34m\u001b[0m\u001b[0m\n\u001b[0;32m-> 2302\u001b[0;31m         \u001b[0mself\u001b[0m\u001b[0;34m.\u001b[0m\u001b[0merror\u001b[0m\u001b[0;34m(\u001b[0m\u001b[0mobj\u001b[0m\u001b[0;34m,\u001b[0m \u001b[0mvalue\u001b[0m\u001b[0;34m)\u001b[0m\u001b[0;34m\u001b[0m\u001b[0;34m\u001b[0m\u001b[0m\n\u001b[0m\u001b[1;32m   2303\u001b[0m \u001b[0;34m\u001b[0m\u001b[0m\n\u001b[1;32m   2304\u001b[0m     \u001b[0;32mdef\u001b[0m \u001b[0m__or__\u001b[0m\u001b[0;34m(\u001b[0m\u001b[0mself\u001b[0m\u001b[0;34m,\u001b[0m \u001b[0mother\u001b[0m\u001b[0;34m)\u001b[0m\u001b[0;34m:\u001b[0m\u001b[0;34m\u001b[0m\u001b[0;34m\u001b[0m\u001b[0m\n",
            "\u001b[0;32m/usr/local/lib/python3.10/dist-packages/traitlets/traitlets.py\u001b[0m in \u001b[0;36merror\u001b[0;34m(self, obj, value, error, info)\u001b[0m\n\u001b[1;32m    839\u001b[0m                         \u001b[0mdescribe\u001b[0m\u001b[0;34m(\u001b[0m\u001b[0;34m\"the\"\u001b[0m\u001b[0;34m,\u001b[0m \u001b[0mvalue\u001b[0m\u001b[0;34m)\u001b[0m\u001b[0;34m,\u001b[0m\u001b[0;34m\u001b[0m\u001b[0;34m\u001b[0m\u001b[0m\n\u001b[1;32m    840\u001b[0m                     )\n\u001b[0;32m--> 841\u001b[0;31m                 \u001b[0;32mraise\u001b[0m \u001b[0mTraitError\u001b[0m\u001b[0;34m(\u001b[0m\u001b[0me\u001b[0m\u001b[0;34m)\u001b[0m\u001b[0;34m\u001b[0m\u001b[0;34m\u001b[0m\u001b[0m\n\u001b[0m\u001b[1;32m    842\u001b[0m \u001b[0;34m\u001b[0m\u001b[0m\n\u001b[1;32m    843\u001b[0m     \u001b[0;32mdef\u001b[0m \u001b[0mget_metadata\u001b[0m\u001b[0;34m(\u001b[0m\u001b[0mself\u001b[0m\u001b[0;34m,\u001b[0m \u001b[0mkey\u001b[0m\u001b[0;34m,\u001b[0m \u001b[0mdefault\u001b[0m\u001b[0;34m=\u001b[0m\u001b[0;32mNone\u001b[0m\u001b[0;34m)\u001b[0m\u001b[0;34m:\u001b[0m\u001b[0;34m\u001b[0m\u001b[0;34m\u001b[0m\u001b[0m\n",
            "\u001b[0;31mTraitError\u001b[0m: The 'target' trait of a DirectionalLight instance expected an Uninitialized or an Object3D, not the str 'IPY_MODEL_1789a981-c98d-49f4-b0be-effd4d5923c1'."
          ]
        }
      ]
    },
    {
      "cell_type": "markdown",
      "source": [
        "## Cell 5: Compute the volume of the stockpile"
      ],
      "metadata": {
        "id": "zquERa2Ow0cb"
      }
    },
    {
      "cell_type": "code",
      "source": [
        "# Compute the volume of the stockpile\n",
        "def get_triangles_vertices(triangles, vertices):\n",
        "    triangles_vertices = []\n",
        "    for triangle in triangles:\n",
        "        new_triangles_vertices = [vertices[triangle[0]], vertices[triangle[1]], vertices[triangle[2]]]\n",
        "        triangles_vertices.append(new_triangles_vertices)\n",
        "    return np.array(triangles_vertices)\n",
        "\n",
        "def volume_under_triangle(triangle):\n",
        "    p1, p2, p3 = triangle\n",
        "    x1, y1, z1 = p1\n",
        "    x2, y2, z2 = p2\n",
        "    x3, y3, z3 = p3\n",
        "    return abs((z1+z2+z3) * (x1*y2 - x2*y1 + x2*y3 - x3*y2 + x3*y1 - x1*y3) / 6)\n",
        "\n",
        "downpdc = stockpile_pcd.voxel_down_sample(voxel_size=0.05)\n",
        "xyz = np.asarray(downpdc.points)\n",
        "xy_catalog = np.array([[point[0], point[1]] for point in xyz])\n",
        "tri = Delaunay(xy_catalog)\n",
        "\n",
        "# Create a TriangleMesh using the vertices and the triangles from Delaunay triangulation\n",
        "surface = o3d.geometry.TriangleMesh()\n",
        "surface.vertices = o3d.utility.Vector3dVector(xyz)\n",
        "surface.triangles = o3d.utility.Vector3iVector(tri.simplices)\n",
        "surface.paint_uniform_color([0, 0, 1.0])\n",
        "\n",
        "# Compute the volume\n",
        "triangles_vertices = get_triangles_vertices(surface.triangles, surface.vertices)\n",
        "volume = reduce(lambda a, b: a + volume_under_triangle(b), triangles_vertices, 0)\n",
        "\n",
        "# Output the volume\n",
        "print(f\"The volume of the stockpile is: {round(volume, 2)} cubic meters\")"
      ],
      "metadata": {
        "colab": {
          "base_uri": "https://localhost:8080/"
        },
        "id": "BcKFw0Rhws0r",
        "outputId": "b18967bd-9dc4-4fcc-ffb1-751d79c8015d"
      },
      "execution_count": 15,
      "outputs": [
        {
          "output_type": "stream",
          "name": "stdout",
          "text": [
            "The volume of the stockpile is: 0.29 cubic meters\n"
          ]
        }
      ]
    }
  ]
}